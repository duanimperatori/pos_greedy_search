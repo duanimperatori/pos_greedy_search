{
 "cells": [
  {
   "cell_type": "code",
   "execution_count": 42,
   "metadata": {},
   "outputs": [
    {
     "name": "stdout",
     "output_type": "stream",
     "text": [
      "Best Path: ('Porto Alegre', 'Curitiba', 'São Paulo', 'Rio de Janeiro', 'Belo Horizonte', 'Brasília', 'Salvador', 'Fortaleza')\n",
      "Minimum Distance: 5534\n",
      "Porto Alegre - Curitiba: 711 km\n",
      "Curitiba - São Paulo: 408 km\n",
      "São Paulo - Rio de Janeiro: 430 km\n",
      "Rio de Janeiro - Belo Horizonte: 434 km\n",
      "Belo Horizonte - Brasília: 716 km\n",
      "Brasília - Salvador: 1446 km\n",
      "Salvador - Fortaleza: 1389 km\n"
     ]
    }
   ],
   "source": [
    "from itertools import permutations\n",
    "\n",
    "# Given distances between cities\n",
    "distances = {\n",
    "    ('São Paulo', 'Rio de Janeiro'): 430,\n",
    "    ('São Paulo', 'Belo Horizonte'): 586,\n",
    "    ('São Paulo', 'Brasília'): 872,\n",
    "    ('São Paulo', 'Salvador'): 1962,\n",
    "    ('São Paulo', 'Curitiba'): 408,\n",
    "    ('São Paulo', 'Porto Alegre'): 853,\n",
    "    ('São Paulo', 'Fortaleza'): 2365,\n",
    "    ('Rio de Janeiro', 'Belo Horizonte'): 434,\n",
    "    ('Rio de Janeiro', 'Brasília'): 1148,\n",
    "    ('Rio de Janeiro', 'Salvador'): 1649,\n",
    "    ('Rio de Janeiro', 'Curitiba'): 852,\n",
    "    ('Rio de Janeiro', 'Porto Alegre'): 1553,\n",
    "    ('Rio de Janeiro', 'Fortaleza'): 2191,\n",
    "    ('Belo Horizonte', 'Brasília'): 716,\n",
    "    ('Belo Horizonte', 'Salvador'): 1372,\n",
    "    ('Belo Horizonte', 'Curitiba'): 1004,\n",
    "    ('Belo Horizonte', 'Porto Alegre'): 1698,\n",
    "    ('Belo Horizonte', 'Fortaleza'): 2528,\n",
    "    ('Brasília', 'Salvador'): 1446,\n",
    "    ('Brasília', 'Curitiba'): 1366,\n",
    "    ('Brasília', 'Porto Alegre'): 2027,\n",
    "    ('Brasília', 'Fortaleza'): 2200,\n",
    "    ('Salvador', 'Curitiba'): 2387,\n",
    "    ('Salvador', 'Porto Alegre'): 3090,\n",
    "    ('Salvador', 'Fortaleza'): 1389,\n",
    "    ('Curitiba', 'Porto Alegre'): 711,\n",
    "    ('Curitiba', 'Fortaleza'): 3287,\n",
    "    ('Porto Alegre', 'Fortaleza'): 4243\n",
    "}\n",
    "\n",
    "def total_distance(path):\n",
    "    return sum(distances.get((path[i], path[i + 1]), distances.get((path[i + 1], path[i]))) for i in range(len(path) - 1))\n",
    "\n",
    "def hill_climbing(cities):\n",
    "    min_distance = float('inf')\n",
    "    best_path = None\n",
    "\n",
    "    for path in permutations(cities):\n",
    "        current_distance = total_distance(path)\n",
    "        if current_distance < min_distance:\n",
    "            min_distance = current_distance\n",
    "            best_path = path\n",
    "\n",
    "    return best_path, min_distance\n",
    "\n",
    "cities = ['São Paulo', 'Rio de Janeiro', 'Belo Horizonte', 'Brasília', 'Salvador', 'Curitiba', 'Porto Alegre', 'Fortaleza']\n",
    "best_path, min_distance = hill_climbing(cities)\n",
    "\n",
    "print(\"Best Path:\", best_path)\n",
    "print(\"Minimum Distance:\", min_distance)\n",
    "\n",
    "# Print all distances for the best path\n",
    "for i in range(len(best_path) - 1):\n",
    "    city1, city2 = best_path[i], best_path[i + 1]\n",
    "    distance = distances.get((city1, city2), distances.get((city2, city1)))\n",
    "    print(f\"{city1} - {city2}: {distance} km\")\n"
   ]
  }
 ],
 "metadata": {
  "kernelspec": {
   "display_name": "Python 3",
   "language": "python",
   "name": "python3"
  },
  "language_info": {
   "codemirror_mode": {
    "name": "ipython",
    "version": 3
   },
   "file_extension": ".py",
   "mimetype": "text/x-python",
   "name": "python",
   "nbconvert_exporter": "python",
   "pygments_lexer": "ipython3",
   "version": "3.10.4"
  }
 },
 "nbformat": 4,
 "nbformat_minor": 2
}
